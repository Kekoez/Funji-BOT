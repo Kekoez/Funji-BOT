{
  "nbformat": 4,
  "nbformat_minor": 0,
  "metadata": {
    "colab": {
      "provenance": [],
      "include_colab_link": true
    },
    "kernelspec": {
      "name": "python3",
      "display_name": "Python 3"
    },
    "language_info": {
      "name": "python"
    }
  },
  "cells": [
    {
      "cell_type": "markdown",
      "metadata": {
        "id": "view-in-github",
        "colab_type": "text"
      },
      "source": [
        "<a href=\"https://colab.research.google.com/github/Kekoez/Funji-BOT/blob/main/icrawler_search_engin.ipynb\" target=\"_parent\"><img src=\"https://colab.research.google.com/assets/colab-badge.svg\" alt=\"Open In Colab\"/></a>"
      ]
    },
    {
      "cell_type": "code",
      "source": [
        "!pip install icrawler\n",
        "!pip install --upgrade icrawler\n",
        "\n",
        "from icrawler.builtin import BingImageCrawler"
      ],
      "metadata": {
        "id": "to5WjWKv3KFK"
      },
      "execution_count": null,
      "outputs": []
    },
    {
      "cell_type": "code",
      "source": [
        "search_query = \"Cortinarius orellanus (Fool's Webcap)\"\n",
        "num_images = 300\n",
        "\n",
        "output_directory = \"Cortinarius_orellanus_Fools_Webcap\"  # Specify the output directory to save the images\n",
        "\n",
        "# Custom error handling to skip failed downloads\n",
        "class CustomErrorHandler(object):\n",
        "    def __call__(self, exception):\n",
        "        print(f\"Error: {exception}\")\n",
        "        return None\n",
        "\n",
        "bing_crawler = BingImageCrawler(storage={\"root_dir\": output_directory}, downloader_threads=4)\n",
        "bing_crawler.crawl(keyword=search_query, max_num=num_images)"
      ],
      "metadata": {
        "id": "DKkJUy2H-_2T"
      },
      "execution_count": null,
      "outputs": []
    },
    {
      "cell_type": "code",
      "source": [
        "!zip -r Cortinarius_orellanus_Fools_Webcap.zip  Cortinarius_orellanus_Fools_Webcap/"
      ],
      "metadata": {
        "id": "SwmpQxHv_Iv8"
      },
      "execution_count": null,
      "outputs": []
    },
    {
      "cell_type": "code",
      "source": [
        "from google.colab import files\n",
        "files.download(\"Cortinarius_orellanus_Fools_Webcap.zip\")"
      ],
      "metadata": {
        "colab": {
          "base_uri": "https://localhost:8080/",
          "height": 34
        },
        "id": "8cGhFotZ_PH7",
        "outputId": "6cfd7da1-3f37-46fa-bd46-eb428aacf8d9"
      },
      "execution_count": null,
      "outputs": [
        {
          "output_type": "display_data",
          "data": {
            "text/plain": [
              "<IPython.core.display.Javascript object>"
            ],
            "application/javascript": [
              "\n",
              "    async function download(id, filename, size) {\n",
              "      if (!google.colab.kernel.accessAllowed) {\n",
              "        return;\n",
              "      }\n",
              "      const div = document.createElement('div');\n",
              "      const label = document.createElement('label');\n",
              "      label.textContent = `Downloading \"${filename}\": `;\n",
              "      div.appendChild(label);\n",
              "      const progress = document.createElement('progress');\n",
              "      progress.max = size;\n",
              "      div.appendChild(progress);\n",
              "      document.body.appendChild(div);\n",
              "\n",
              "      const buffers = [];\n",
              "      let downloaded = 0;\n",
              "\n",
              "      const channel = await google.colab.kernel.comms.open(id);\n",
              "      // Send a message to notify the kernel that we're ready.\n",
              "      channel.send({})\n",
              "\n",
              "      for await (const message of channel.messages) {\n",
              "        // Send a message to notify the kernel that we're ready.\n",
              "        channel.send({})\n",
              "        if (message.buffers) {\n",
              "          for (const buffer of message.buffers) {\n",
              "            buffers.push(buffer);\n",
              "            downloaded += buffer.byteLength;\n",
              "            progress.value = downloaded;\n",
              "          }\n",
              "        }\n",
              "      }\n",
              "      const blob = new Blob(buffers, {type: 'application/binary'});\n",
              "      const a = document.createElement('a');\n",
              "      a.href = window.URL.createObjectURL(blob);\n",
              "      a.download = filename;\n",
              "      div.appendChild(a);\n",
              "      a.click();\n",
              "      div.remove();\n",
              "    }\n",
              "  "
            ]
          },
          "metadata": {}
        },
        {
          "output_type": "display_data",
          "data": {
            "text/plain": [
              "<IPython.core.display.Javascript object>"
            ],
            "application/javascript": [
              "download(\"download_e2fa95ea-1246-4154-a0c9-7a4ebe83247f\", \"Cortinarius_orellanus_Fools_Webcap.zip\", 43552602)"
            ]
          },
          "metadata": {}
        }
      ]
    }
  ]
}